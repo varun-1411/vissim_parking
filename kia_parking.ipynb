{
 "cells": [
  {
   "cell_type": "markdown",
   "metadata": {},
   "source": [
    "# Connection to Vissim COM Server"
   ]
  },
  {
   "cell_type": "code",
   "execution_count": 2,
   "metadata": {},
   "outputs": [],
   "source": [
    "from __future__ import print_function\n",
    "import os\n",
    "# COM-Server\n",
    "import win32com.client as com\n",
    "\n",
    "Vissim = com.gencache.EnsureDispatch(\"Vissim.Vissim\")\n",
    "\n",
    "Path_of_COM_Basic_Commands_network = os.getcwd()"
   ]
  },
  {
   "cell_type": "markdown",
   "metadata": {},
   "source": [
    "# Load the Vissim File and layout"
   ]
  },
  {
   "cell_type": "code",
   "execution_count": 3,
   "metadata": {},
   "outputs": [],
   "source": [
    "Filename = os.path.join(Path_of_COM_Basic_Commands_network, 'kia_parking.inpx')\n",
    "\n",
    "flag_read_additionally = False # you can read network(elements) additionally, in this case set \"flag_read_additionally\" to true\n",
    "Vissim.LoadNet(Filename, flag_read_additionally)\n",
    "\n",
    "Filename = os.path.join(Path_of_COM_Basic_Commands_network, 'kia_parking.layx')\n",
    "Vissim.LoadLayout(Filename)"
   ]
  },
  {
   "cell_type": "code",
   "execution_count": 7,
   "metadata": {},
   "outputs": [],
   "source": [
    "Random_Seed = 42\n",
    "Vissim.Simulation.SetAttValue('RandSeed', Random_Seed)"
   ]
  },
  {
   "cell_type": "code",
   "execution_count": 22,
   "metadata": {},
   "outputs": [],
   "source": [
    "Sim_break_at = 50 # simulation second [s]\n",
    "Vissim.Simulation.SetAttValue('SimBreakAt', Sim_break_at)\n",
    "Vissim.Simulation.RunContinuous() "
   ]
  },
  {
   "cell_type": "code",
   "execution_count": 20,
   "metadata": {},
   "outputs": [],
   "source": [
    "group_parking_lot_attributes = Vissim.Net.ParkLotGrps.GetMultipleAttributes(( 'Name','No','NumVehsEnter(Current,Total,All)',\n",
    "                                                                             'NumVehsEnter(Current,Last,All)',\n",
    "                                                                             'NumVehsPark(Current,Last,All)',\n",
    "                                                                             'NumVehsLeave(Current,Last,All)',\n",
    "                                                                             'OccupDurTot(Current,Last,All)',\n",
    "                                                                             'OccupRate(Current,Last,All)'))\n",
    "# for number in range(46,47):\n",
    "#         # print('Name: ', group_parking_lot_attributes[number][0], 'No: ', group_parking_lot_attributes[number][1],\n",
    "#         #     'NumVehsEnter(Current,Total,All): ', group_parking_lot_attributes[number][2], 'NumVehsEnter(Current,Last,All): ',\n",
    "#         #         group_parking_lot_attributes[number][3], 'NumVehsPark(Current,Total,All): ', group_parking_lot_attributes[number][4],\n",
    "#         #         'NumVehsLeave(Current,Total,All): ', group_parking_lot_attributes[number][5], 'OccupDurTot(Current,Last,All): ',\n",
    "#         #             group_parking_lot_attributes[number][6], 'OccupRate(Current,Last,All): ', group_parking_lot_attributes[number][7])\n",
    "#     print(f'PARKING LOT : {group_parking_lot_attributes[number][0]}')"
   ]
  },
  {
   "cell_type": "code",
   "execution_count": null,
   "metadata": {},
   "outputs": [],
   "source": [
    "group_parking_lot_attributes"
   ]
  },
  {
   "cell_type": "code",
   "execution_count": null,
   "metadata": {},
   "outputs": [],
   "source": [
    "for i in range(1, 5):\n",
    "    Sim_break_at = break_time # simulation second [s]\n",
    "    # if Sim_break_at != 360:\n",
    "    # print(\"break time\", break_time)\n",
    "    Vissim.Simulation.SetAttValue('SimBreakAt', Sim_break_at)\n",
    "    Vissim.Simulation.RunContinuous()\n",
    "    \n",
    "                # print(\"Removed pedestrian:\", removed_pedestrian)\n",
    "                # print(\"Remaining pedestrians:\", len(list(deque_pedestrian_curr)))\n",
    "                # print(\"Remaining pedestrians list:\", list(deque_pedestrian_curr))\n",
    "\n",
    "    simulation_second = Vissim.Net.Simulation.AttValue('SimSec')\n",
    "    group_parking_lot_attributes = Vissim.Net.ParkLotGrps.GetMultipleAttributes(( 'Name','No','NumVehsEnter(Current,Total,All)',\n",
    "                                                                             'NumVehsEnter(Current,Last,All)',\n",
    "                                                                             'NumVehsPark(Current,Last,All)',\n",
    "                                                                             'NumVehsLeave(Current,Last,All)',\n",
    "                                                                             'OccupDurTot(Current,Last,All)',\n",
    "                                                                             'OccupRate(Current,Last,All)'))\n",
    "    for number in range(45,47):\n",
    "        # print('Name: ', group_parking_lot_attributes[number][0], 'No: ', group_parking_lot_attributes[number][1],\n",
    "        #     'NumVehsEnter(Current,Total,All): ', group_parking_lot_attributes[number][2], 'NumVehsEnter(Current,Last,All): ',\n",
    "        #         group_parking_lot_attributes[number][3], 'NumVehsPark(Current,Total,All): ', group_parking_lot_attributes[number][4],\n",
    "        #         'NumVehsLeave(Current,Total,All): ', group_parking_lot_attributes[number][5], 'OccupDurTot(Current,Last,All): ',\n",
    "        #             group_parking_lot_attributes[number][6], 'OccupRate(Current,Last,All): ', group_parking_lot_attributes[number][7])\n",
    "        print(f'PARKING LOT : {group_parking_lot_attributes[number][0]}')\n",
    "    # for count in range(0, len(group_parking_lot_attributes[0])):\n",
    "    #     Name.append(group_parking_lot_attributes[count][0])\n",
    "    #     No.append(group_parking_lot_attributes[count][1])\n",
    "    #     NumVehsEnter.append(group_parking_lot_attributes[count][2])\n",
    "        # NumVehsLeave.append(Vissim.Net.ParkingLots.ItemByKey(group_parking_lot_attributes[count][1]).AttValue('NumVehsLeave(Current,Current,All)'))\n",
    "    # print(\"Name\", Name)\n",
    "    # # print(\"No\", No)\n",
    "    # print(\"NumVehsEnter\", NumVehsEnter)\n",
    "    print(\"simulation second\", simulation_second)\n",
    "    print()\n",
    "    print()\n",
    "    print('----------------------------------------------')\n",
    "    # if break_time != 360:\n",
    "        # break_time = 120\n",
    "    # if break_time == 120:\n",
    "    #     break\n",
    "    break_time = break_time + 5"
   ]
  },
  {
   "cell_type": "code",
   "execution_count": null,
   "metadata": {},
   "outputs": [],
   "source": [
    "group_parking_lot_attributes = Vissim.Net.ParkLotGrps.GetMultipleAttributes(( 'Name','No','NumVehsEnter(Current,Total,All)',\n",
    "                                                                             'NumVehsEnter(Current,Last,All)',\n",
    "                                                                             'NumVehsPark(Current,Last,All)',\n",
    "                                                                             'NumVehsLeave(Current,Total,All)',\n",
    "                                                                             'OccupDurTot(Current,Last,All)',\n",
    "                                                                             'OccupRate(Current,Last,All)'))"
   ]
  },
  {
   "cell_type": "code",
   "execution_count": 3,
   "metadata": {},
   "outputs": [],
   "source": [
    "Vissim = None"
   ]
  },
  {
   "cell_type": "markdown",
   "metadata": {},
   "source": [
    "# Passenger Time interval setting \n",
    "\n",
    "- Passenger arrival distribution is divided into 5 second interval from 0 to 86400 seconds (24 hours)"
   ]
  },
  {
   "cell_type": "code",
   "execution_count": 7,
   "metadata": {},
   "outputs": [],
   "source": [
    "TimeIntervalSet = 5\n",
    "time_interval_set = Vissim.Net.TimeIntervalSets.ItemByKey(TimeIntervalSet)\n",
    "time_interval = time_interval_set.TimeInts.AddTimeInterval(1)\n",
    "j = 60\n",
    "for i in range(0,1440):\n",
    "\n",
    "# Set the attributes for the TimeInterval\n",
    "    time_interval.SetAttValue(\"Start\", j)\n",
    "    time_interval = time_interval_set.TimeInts.AddTimeInterval(1)\n",
    "\n",
    "    j += 60"
   ]
  },
  {
   "cell_type": "markdown",
   "metadata": {},
   "source": [
    "# Vehicle Time interval setting"
   ]
  },
  {
   "cell_type": "code",
   "execution_count": 6,
   "metadata": {},
   "outputs": [],
   "source": [
    "TimeIntervalSet = 1\n",
    "time_interval_set = Vissim.Net.TimeIntervalSets.ItemByKey(TimeIntervalSet)\n",
    "# Create a new TimeInterval object\n",
    "time_interval = time_interval_set.TimeInts.AddTimeInterval(1)\n",
    "j = 300\n",
    "for i in range(288):\n",
    "\n",
    "# Set the attributes for the TimeInterval\n",
    "    time_interval.SetAttValue(\"Start\", j)\n",
    "    time_interval = time_interval_set.TimeInts.AddTimeInterval(1)\n",
    "\n",
    "    j += 300"
   ]
  },
  {
   "cell_type": "markdown",
   "metadata": {},
   "source": [
    "# Passenger input setting\n",
    "\n",
    "- Passengers are added for every 5 seconds interval according to the passenger arrival distribution and in vissim each input is taken in count/hour so we multiply the passenger arrival distribution by 720 to get the passenger input count/hour"
   ]
  },
  {
   "cell_type": "code",
   "execution_count": 9,
   "metadata": {},
   "outputs": [],
   "source": [
    "import random"
   ]
  },
  {
   "cell_type": "code",
   "execution_count": 10,
   "metadata": {},
   "outputs": [],
   "source": [
    "Area8 = Vissim.Net.Areas.ItemByKey(8)\n",
    "PedInput = Vissim.Net.PedestrianInputs.AddPedestrianInput(0, Area8)\n",
    "for i in range(1,1440):\n",
    "    PedInput.SetAttValue('Volume(' +str(i)+ ')', random.randint(0, 2160))"
   ]
  },
  {
   "cell_type": "markdown",
   "metadata": {},
   "source": [
    "# Vehicle input setting"
   ]
  },
  {
   "cell_type": "code",
   "execution_count": 12,
   "metadata": {},
   "outputs": [],
   "source": [
    "VehInput = Vissim.Net.VehicleInputs.AddVehicleInput(0, Vissim.Net.Links.ItemByKey(18)) # unsigned int Key, Link,\n",
    "VehInput.SetAttValue('Name','Passengers Dropout')\n",
    "# for i in range(1,3):\n",
    "#     VehInput.SetAttValue('Volume(' +str(i)+ ')', random.randint(100, 1000))\n",
    "#     VehInput.SetAttValue('VehComp(' +str(i)+ ')',2)"
   ]
  },
  {
   "cell_type": "markdown",
   "metadata": {},
   "source": [
    "### Assigning volume at Dropout zone"
   ]
  },
  {
   "cell_type": "code",
   "execution_count": null,
   "metadata": {},
   "outputs": [],
   "source": [
    "# for id,row in Passengers_at_dropoff.iterrows():\n",
    "for i in range(2,1440):\n",
    "    VehInput.SetAttValue('Volume(' +str(row['TIME'] + 11)+ ')', row['Total_Passengers']*60)\n",
    "    VehInput.SetAttValue('VehComp(' +str(row['TIME'] + 11)+ ')', 2)"
   ]
  },
  {
   "cell_type": "markdown",
   "metadata": {},
   "source": [
    "# Simulation initialization settings"
   ]
  },
  {
   "cell_type": "code",
   "execution_count": null,
   "metadata": {},
   "outputs": [],
   "source": [
    "Random_Seed = 42\n",
    "Vissim.Simulation.SetAttValue('RandSeed', Random_Seed)"
   ]
  }
 ],
 "metadata": {
  "kernelspec": {
   "display_name": "Python 3",
   "language": "python",
   "name": "python3"
  },
  "language_info": {
   "codemirror_mode": {
    "name": "ipython",
    "version": 3
   },
   "file_extension": ".py",
   "mimetype": "text/x-python",
   "name": "python",
   "nbconvert_exporter": "python",
   "pygments_lexer": "ipython3",
   "version": "3.11.9"
  }
 },
 "nbformat": 4,
 "nbformat_minor": 2
}
